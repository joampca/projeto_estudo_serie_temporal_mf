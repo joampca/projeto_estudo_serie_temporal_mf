{
 "cells": [
  {
   "cell_type": "markdown",
   "id": "2c909e4f",
   "metadata": {
    "heading_collapsed": true
   },
   "source": [
    "##### Importando biblioteca e dados"
   ]
  },
  {
   "cell_type": "code",
   "execution_count": 55,
   "id": "d72993c5",
   "metadata": {
    "hidden": true
   },
   "outputs": [],
   "source": [
    "# importando bibliotecas\n",
    "\n",
    "import pandas as pd\n",
    "import matplotlib.pyplot as plt\n",
    "from statsmodels.tsa.seasonal import seasonal_decompose\n",
    "import yfinance as yf\n",
    "import seaborn as sns\n",
    "pd.set_option('display.float_format', lambda x: '%.3f' % x)"
   ]
  },
  {
   "cell_type": "code",
   "execution_count": 4,
   "id": "6b8bfcf2",
   "metadata": {
    "hidden": true
   },
   "outputs": [],
   "source": [
    "# importando dados ibovespa utilizando lib yfinance.\n",
    "\n",
    "ticket = yf.Ticker('^BVSP')\n",
    "df = ticket.history(interval='1d', start='2015-01-01', end='2021-01-01')"
   ]
  },
  {
   "cell_type": "code",
   "execution_count": 5,
   "id": "7ddb57be",
   "metadata": {
    "hidden": true
   },
   "outputs": [
    {
     "data": {
      "text/html": [
       "<div>\n",
       "<style scoped>\n",
       "    .dataframe tbody tr th:only-of-type {\n",
       "        vertical-align: middle;\n",
       "    }\n",
       "\n",
       "    .dataframe tbody tr th {\n",
       "        vertical-align: top;\n",
       "    }\n",
       "\n",
       "    .dataframe thead th {\n",
       "        text-align: right;\n",
       "    }\n",
       "</style>\n",
       "<table border=\"1\" class=\"dataframe\">\n",
       "  <thead>\n",
       "    <tr style=\"text-align: right;\">\n",
       "      <th></th>\n",
       "      <th>Open</th>\n",
       "      <th>High</th>\n",
       "      <th>Low</th>\n",
       "      <th>Close</th>\n",
       "      <th>Volume</th>\n",
       "      <th>Dividends</th>\n",
       "      <th>Stock Splits</th>\n",
       "    </tr>\n",
       "    <tr>\n",
       "      <th>Date</th>\n",
       "      <th></th>\n",
       "      <th></th>\n",
       "      <th></th>\n",
       "      <th></th>\n",
       "      <th></th>\n",
       "      <th></th>\n",
       "      <th></th>\n",
       "    </tr>\n",
       "  </thead>\n",
       "  <tbody>\n",
       "    <tr>\n",
       "      <th>2015-01-02</th>\n",
       "      <td>50005.000</td>\n",
       "      <td>50005.000</td>\n",
       "      <td>48345.000</td>\n",
       "      <td>48512.000</td>\n",
       "      <td>2882100</td>\n",
       "      <td>0</td>\n",
       "      <td>0</td>\n",
       "    </tr>\n",
       "    <tr>\n",
       "      <th>2015-01-05</th>\n",
       "      <td>48512.000</td>\n",
       "      <td>48512.000</td>\n",
       "      <td>47264.000</td>\n",
       "      <td>47517.000</td>\n",
       "      <td>3866100</td>\n",
       "      <td>0</td>\n",
       "      <td>0</td>\n",
       "    </tr>\n",
       "    <tr>\n",
       "      <th>2015-01-06</th>\n",
       "      <td>47517.000</td>\n",
       "      <td>48061.000</td>\n",
       "      <td>47338.000</td>\n",
       "      <td>48001.000</td>\n",
       "      <td>4559300</td>\n",
       "      <td>0</td>\n",
       "      <td>0</td>\n",
       "    </tr>\n",
       "    <tr>\n",
       "      <th>2015-01-07</th>\n",
       "      <td>48006.000</td>\n",
       "      <td>49882.000</td>\n",
       "      <td>48006.000</td>\n",
       "      <td>49463.000</td>\n",
       "      <td>4408800</td>\n",
       "      <td>0</td>\n",
       "      <td>0</td>\n",
       "    </tr>\n",
       "    <tr>\n",
       "      <th>2015-01-08</th>\n",
       "      <td>49463.000</td>\n",
       "      <td>50261.000</td>\n",
       "      <td>49017.000</td>\n",
       "      <td>49943.000</td>\n",
       "      <td>3621900</td>\n",
       "      <td>0</td>\n",
       "      <td>0</td>\n",
       "    </tr>\n",
       "    <tr>\n",
       "      <th>...</th>\n",
       "      <td>...</td>\n",
       "      <td>...</td>\n",
       "      <td>...</td>\n",
       "      <td>...</td>\n",
       "      <td>...</td>\n",
       "      <td>...</td>\n",
       "      <td>...</td>\n",
       "    </tr>\n",
       "    <tr>\n",
       "      <th>2020-12-22</th>\n",
       "      <td>115825.000</td>\n",
       "      <td>116903.000</td>\n",
       "      <td>115648.000</td>\n",
       "      <td>116348.000</td>\n",
       "      <td>6947900</td>\n",
       "      <td>0</td>\n",
       "      <td>0</td>\n",
       "    </tr>\n",
       "    <tr>\n",
       "      <th>2020-12-23</th>\n",
       "      <td>116636.000</td>\n",
       "      <td>118311.000</td>\n",
       "      <td>116636.000</td>\n",
       "      <td>117857.000</td>\n",
       "      <td>6483300</td>\n",
       "      <td>0</td>\n",
       "      <td>0</td>\n",
       "    </tr>\n",
       "    <tr>\n",
       "      <th>2020-12-28</th>\n",
       "      <td>117806.000</td>\n",
       "      <td>119213.000</td>\n",
       "      <td>117805.000</td>\n",
       "      <td>119051.000</td>\n",
       "      <td>7171700</td>\n",
       "      <td>0</td>\n",
       "      <td>0</td>\n",
       "    </tr>\n",
       "    <tr>\n",
       "      <th>2020-12-29</th>\n",
       "      <td>119130.000</td>\n",
       "      <td>119861.000</td>\n",
       "      <td>118750.000</td>\n",
       "      <td>119475.000</td>\n",
       "      <td>6769700</td>\n",
       "      <td>0</td>\n",
       "      <td>0</td>\n",
       "    </tr>\n",
       "    <tr>\n",
       "      <th>2020-12-30</th>\n",
       "      <td>119410.000</td>\n",
       "      <td>120150.000</td>\n",
       "      <td>118919.000</td>\n",
       "      <td>119306.000</td>\n",
       "      <td>8235700</td>\n",
       "      <td>0</td>\n",
       "      <td>0</td>\n",
       "    </tr>\n",
       "  </tbody>\n",
       "</table>\n",
       "<p>1480 rows × 7 columns</p>\n",
       "</div>"
      ],
      "text/plain": [
       "                 Open       High        Low      Close   Volume  Dividends  \\\n",
       "Date                                                                         \n",
       "2015-01-02  50005.000  50005.000  48345.000  48512.000  2882100          0   \n",
       "2015-01-05  48512.000  48512.000  47264.000  47517.000  3866100          0   \n",
       "2015-01-06  47517.000  48061.000  47338.000  48001.000  4559300          0   \n",
       "2015-01-07  48006.000  49882.000  48006.000  49463.000  4408800          0   \n",
       "2015-01-08  49463.000  50261.000  49017.000  49943.000  3621900          0   \n",
       "...               ...        ...        ...        ...      ...        ...   \n",
       "2020-12-22 115825.000 116903.000 115648.000 116348.000  6947900          0   \n",
       "2020-12-23 116636.000 118311.000 116636.000 117857.000  6483300          0   \n",
       "2020-12-28 117806.000 119213.000 117805.000 119051.000  7171700          0   \n",
       "2020-12-29 119130.000 119861.000 118750.000 119475.000  6769700          0   \n",
       "2020-12-30 119410.000 120150.000 118919.000 119306.000  8235700          0   \n",
       "\n",
       "            Stock Splits  \n",
       "Date                      \n",
       "2015-01-02             0  \n",
       "2015-01-05             0  \n",
       "2015-01-06             0  \n",
       "2015-01-07             0  \n",
       "2015-01-08             0  \n",
       "...                  ...  \n",
       "2020-12-22             0  \n",
       "2020-12-23             0  \n",
       "2020-12-28             0  \n",
       "2020-12-29             0  \n",
       "2020-12-30             0  \n",
       "\n",
       "[1480 rows x 7 columns]"
      ]
     },
     "execution_count": 5,
     "metadata": {},
     "output_type": "execute_result"
    }
   ],
   "source": [
    "# visualizando dados\n",
    "\n",
    "df"
   ]
  },
  {
   "cell_type": "code",
   "execution_count": 6,
   "id": "0f81c665",
   "metadata": {
    "hidden": true,
    "scrolled": true
   },
   "outputs": [
    {
     "data": {
      "text/html": [
       "<div>\n",
       "<style scoped>\n",
       "    .dataframe tbody tr th:only-of-type {\n",
       "        vertical-align: middle;\n",
       "    }\n",
       "\n",
       "    .dataframe tbody tr th {\n",
       "        vertical-align: top;\n",
       "    }\n",
       "\n",
       "    .dataframe thead th {\n",
       "        text-align: right;\n",
       "    }\n",
       "</style>\n",
       "<table border=\"1\" class=\"dataframe\">\n",
       "  <thead>\n",
       "    <tr style=\"text-align: right;\">\n",
       "      <th></th>\n",
       "      <th>Open</th>\n",
       "      <th>High</th>\n",
       "      <th>Low</th>\n",
       "      <th>Close</th>\n",
       "      <th>Volume</th>\n",
       "      <th>Dividends</th>\n",
       "      <th>Stock Splits</th>\n",
       "    </tr>\n",
       "    <tr>\n",
       "      <th>Date</th>\n",
       "      <th></th>\n",
       "      <th></th>\n",
       "      <th></th>\n",
       "      <th></th>\n",
       "      <th></th>\n",
       "      <th></th>\n",
       "      <th></th>\n",
       "    </tr>\n",
       "  </thead>\n",
       "  <tbody>\n",
       "    <tr>\n",
       "      <th>2020-12-22</th>\n",
       "      <td>115825.000</td>\n",
       "      <td>116903.000</td>\n",
       "      <td>115648.000</td>\n",
       "      <td>116348.000</td>\n",
       "      <td>6947900</td>\n",
       "      <td>0</td>\n",
       "      <td>0</td>\n",
       "    </tr>\n",
       "    <tr>\n",
       "      <th>2020-12-23</th>\n",
       "      <td>116636.000</td>\n",
       "      <td>118311.000</td>\n",
       "      <td>116636.000</td>\n",
       "      <td>117857.000</td>\n",
       "      <td>6483300</td>\n",
       "      <td>0</td>\n",
       "      <td>0</td>\n",
       "    </tr>\n",
       "    <tr>\n",
       "      <th>2020-12-28</th>\n",
       "      <td>117806.000</td>\n",
       "      <td>119213.000</td>\n",
       "      <td>117805.000</td>\n",
       "      <td>119051.000</td>\n",
       "      <td>7171700</td>\n",
       "      <td>0</td>\n",
       "      <td>0</td>\n",
       "    </tr>\n",
       "    <tr>\n",
       "      <th>2020-12-29</th>\n",
       "      <td>119130.000</td>\n",
       "      <td>119861.000</td>\n",
       "      <td>118750.000</td>\n",
       "      <td>119475.000</td>\n",
       "      <td>6769700</td>\n",
       "      <td>0</td>\n",
       "      <td>0</td>\n",
       "    </tr>\n",
       "    <tr>\n",
       "      <th>2020-12-30</th>\n",
       "      <td>119410.000</td>\n",
       "      <td>120150.000</td>\n",
       "      <td>118919.000</td>\n",
       "      <td>119306.000</td>\n",
       "      <td>8235700</td>\n",
       "      <td>0</td>\n",
       "      <td>0</td>\n",
       "    </tr>\n",
       "  </tbody>\n",
       "</table>\n",
       "</div>"
      ],
      "text/plain": [
       "                 Open       High        Low      Close   Volume  Dividends  \\\n",
       "Date                                                                         \n",
       "2020-12-22 115825.000 116903.000 115648.000 116348.000  6947900          0   \n",
       "2020-12-23 116636.000 118311.000 116636.000 117857.000  6483300          0   \n",
       "2020-12-28 117806.000 119213.000 117805.000 119051.000  7171700          0   \n",
       "2020-12-29 119130.000 119861.000 118750.000 119475.000  6769700          0   \n",
       "2020-12-30 119410.000 120150.000 118919.000 119306.000  8235700          0   \n",
       "\n",
       "            Stock Splits  \n",
       "Date                      \n",
       "2020-12-22             0  \n",
       "2020-12-23             0  \n",
       "2020-12-28             0  \n",
       "2020-12-29             0  \n",
       "2020-12-30             0  "
      ]
     },
     "execution_count": 6,
     "metadata": {},
     "output_type": "execute_result"
    }
   ],
   "source": [
    "# visualizando ultimos dados\n",
    "\n",
    "df.tail(5)"
   ]
  },
  {
   "cell_type": "markdown",
   "id": "a02da1cd",
   "metadata": {},
   "source": [
    "##### Decomposição da série temporal "
   ]
  },
  {
   "cell_type": "code",
   "execution_count": 7,
   "id": "db579d25",
   "metadata": {},
   "outputs": [
    {
     "name": "stdout",
     "output_type": "stream",
     "text": [
      "<class 'pandas.core.frame.DataFrame'>\n",
      "DatetimeIndex: 1480 entries, 2015-01-02 to 2020-12-30\n",
      "Data columns (total 1 columns):\n",
      " #   Column  Non-Null Count  Dtype  \n",
      "---  ------  --------------  -----  \n",
      " 0   Close   1480 non-null   float64\n",
      "dtypes: float64(1)\n",
      "memory usage: 23.1 KB\n"
     ]
    }
   ],
   "source": [
    "# Visualizando o tipo de dado da coluna \"Close\"\n",
    "\n",
    "df[['Close']].info()"
   ]
  },
  {
   "cell_type": "markdown",
   "id": "8771d6a9",
   "metadata": {},
   "source": [
    "- Para decomposição de uma série, usamos modelos matemáticos\n",
    "que podem ser aditivos ou multiplicativos. \n",
    "\n",
    " additive model - y(t) = trend_t + seasonality_t + noise_t \n",
    "\n",
    " multiplicative_model -  y(t) trend_t * seasonality_t * noise_t\n",
    " \n",
    "\n",
    "- O modelo aditivo acaba sendo mais sensível no resultado final, já o modelo multiplicativo \n",
    " tem uma variação menor, porém, ambos iram retornar a própia série temporal.\n",
    " \n",
    " Nesse projeto, iremos usar o modelo aditivo. "
   ]
  },
  {
   "cell_type": "code",
   "execution_count": 8,
   "id": "3343ee15",
   "metadata": {},
   "outputs": [],
   "source": [
    "# Aplicando a decomposição na série temporal\n",
    "\n",
    "decomposition = seasonal_decompose(\n",
    "    df[['Close']], model='additive', period=30, extrapolate_trend=30)"
   ]
  },
  {
   "cell_type": "markdown",
   "id": "618a6406",
   "metadata": {},
   "source": [
    "- Abaixo podemos observar no gráfico as informações do modelo observado, \n",
    "tendência,sazonalidade e ruído "
   ]
  },
  {
   "cell_type": "code",
   "execution_count": 9,
   "id": "02f3e3c4",
   "metadata": {},
   "outputs": [
    {
     "data": {
      "image/png": "[encoded data removed]",
      "text/plain": [
       "<Figure size 432x288 with 4 Axes>"
      ]
     },
     "metadata": {
      "needs_background": "light"
     },
     "output_type": "display_data"
    }
   ],
   "source": [
    "decomposition.plot();"
   ]
  },
  {
   "cell_type": "markdown",
   "id": "7e423c47",
   "metadata": {},
   "source": [
    "\n",
    "Análise dos dados de forma separada."
   ]
  },
  {
   "cell_type": "code",
   "execution_count": 10,
   "id": "f58316e5",
   "metadata": {},
   "outputs": [
    {
     "data": {
      "text/plain": [
       "<AxesSubplot:xlabel='Date'>"
      ]
     },
     "execution_count": 10,
     "metadata": {},
     "output_type": "execute_result"
    },
    {
     "data": {
      "image/png": "[encoded data removed]",
      "text/plain": [
       "<Figure size 432x288 with 1 Axes>"
      ]
     },
     "metadata": {
      "needs_background": "light"
     },
     "output_type": "display_data"
    }
   ],
   "source": [
    "# Tendência\n",
    "\n",
    "decomposition.trend.plot()"
   ]
  },
  {
   "cell_type": "code",
   "execution_count": 11,
   "id": "438d64f9",
   "metadata": {},
   "outputs": [
    {
     "data": {
      "text/plain": [
       "<AxesSubplot:xlabel='Date'>"
      ]
     },
     "execution_count": 11,
     "metadata": {},
     "output_type": "execute_result"
    },
    {
     "data": {
      "image/png": "[encoded data removed]",
      "text/plain": [
       "<Figure size 432x288 with 1 Axes>"
      ]
     },
     "metadata": {
      "needs_background": "light"
     },
     "output_type": "display_data"
    }
   ],
   "source": [
    "# Sazonalidade\n",
    "\n",
    "decomposition.seasonal.plot()"
   ]
  },
  {
   "cell_type": "code",
   "execution_count": 12,
   "id": "bf77c204",
   "metadata": {},
   "outputs": [
    {
     "data": {
      "text/plain": [
       "<AxesSubplot:xlabel='Date'>"
      ]
     },
     "execution_count": 12,
     "metadata": {},
     "output_type": "execute_result"
    },
    {
     "data": {
      "image/png": "[encoded data removed]",
      "text/plain": [
       "<Figure size 432x288 with 1 Axes>"
      ]
     },
     "metadata": {
      "needs_background": "light"
     },
     "output_type": "display_data"
    }
   ],
   "source": [
    "# Ruído\n",
    "\n",
    "decomposition.resid.plot()"
   ]
  },
  {
   "cell_type": "markdown",
   "id": "8abbb014",
   "metadata": {},
   "source": [
    "Com as informações acima, podemos chegar a conclusão de que os dados \n",
    "do Ibovespa de 2015 a 2021 tiveram uma tendência de alta com uma queda brusca no início de \n",
    "2020..Essa queda tem como principal causador a pandemia COVID-19."
   ]
  },
  {
   "cell_type": "code",
   "execution_count": 13,
   "id": "0bca7e9b",
   "metadata": {},
   "outputs": [
    {
     "data": {
      "image/png": "[encoded data removed]",
      "text/plain": [
       "<Figure size 720x432 with 4 Axes>"
      ]
     },
     "metadata": {
      "needs_background": "light"
     },
     "output_type": "display_data"
    }
   ],
   "source": [
    "# Gráficos plotados com matplotlib, para melhor visualização.\n",
    "\n",
    "fig, (ax1, ax2, ax3, ax4) = plt.subplots(4, 1, figsize=(10, 6))\n",
    "decomposition.observed.plot(ax=ax1)\n",
    "decomposition.trend.plot(ax=ax2)\n",
    "decomposition.seasonal.plot(ax=ax3)\n",
    "decomposition.resid.plot(ax=ax4)\n",
    "plt.tight_layout()"
   ]
  },
  {
   "cell_type": "markdown",
   "id": "e2f0c25a",
   "metadata": {},
   "source": [
    "##### Cálculo da média móvel"
   ]
  },
  {
   "cell_type": "markdown",
   "id": "f4b36017",
   "metadata": {},
   "source": [
    "- Nesta etapa da análise, iremos fazer o cálculo da média movel.\n",
    "Esse recurso nos permite analisar se os dados da última semana tem aumentado ou diminuído.\n",
    "\n",
    "- Cálculo da média móvel para 7 e para 30 dias. "
   ]
  },
  {
   "cell_type": "code",
   "execution_count": 14,
   "id": "b09d3505",
   "metadata": {},
   "outputs": [
    {
     "data": {
      "text/plain": [
       "Date\n",
       "2015-01-02          NaN\n",
       "2015-01-05          NaN\n",
       "2015-01-06          NaN\n",
       "2015-01-07          NaN\n",
       "2015-01-08          NaN\n",
       "                ...    \n",
       "2020-12-22   116752.571\n",
       "2020-12-23   117164.286\n",
       "2020-12-28   117579.286\n",
       "2020-12-29   117797.571\n",
       "2020-12-30   117961.714\n",
       "Name: Close, Length: 1480, dtype: float64"
      ]
     },
     "execution_count": 14,
     "metadata": {},
     "output_type": "execute_result"
    }
   ],
   "source": [
    "# Média movel para 7 dias.\n",
    "\n",
    "df['Close'].rolling(7).mean()"
   ]
  },
  {
   "cell_type": "code",
   "execution_count": 15,
   "id": "b9631c7f",
   "metadata": {},
   "outputs": [
    {
     "data": {
      "text/plain": [
       "<AxesSubplot:xlabel='Date'>"
      ]
     },
     "execution_count": 15,
     "metadata": {},
     "output_type": "execute_result"
    },
    {
     "data": {
      "image/png": "[encoded data removed]",
      "text/plain": [
       "<Figure size 432x288 with 1 Axes>"
      ]
     },
     "metadata": {
      "needs_background": "light"
     },
     "output_type": "display_data"
    }
   ],
   "source": [
    "df['Close'].rolling(7).mean().plot()"
   ]
  },
  {
   "cell_type": "code",
   "execution_count": 16,
   "id": "01f6cfcc",
   "metadata": {},
   "outputs": [
    {
     "data": {
      "text/plain": [
       "Date\n",
       "2015-01-02          NaN\n",
       "2015-01-05          NaN\n",
       "2015-01-06          NaN\n",
       "2015-01-07          NaN\n",
       "2015-01-08          NaN\n",
       "                ...    \n",
       "2020-12-22   111248.933\n",
       "2020-12-23   111665.800\n",
       "2020-12-28   112149.767\n",
       "2020-12-29   112726.433\n",
       "2020-12-30   113219.567\n",
       "Name: Close, Length: 1480, dtype: float64"
      ]
     },
     "execution_count": 16,
     "metadata": {},
     "output_type": "execute_result"
    }
   ],
   "source": [
    "# Média móvel para 30 dias.\n",
    "\n",
    "df['Close'].rolling(30).mean()"
   ]
  },
  {
   "cell_type": "code",
   "execution_count": 17,
   "id": "dc371795",
   "metadata": {},
   "outputs": [
    {
     "data": {
      "text/plain": [
       "<AxesSubplot:xlabel='Date'>"
      ]
     },
     "execution_count": 17,
     "metadata": {},
     "output_type": "execute_result"
    },
    {
     "data": {
      "image/png": "[encoded data removed]",
      "text/plain": [
       "<Figure size 432x288 with 1 Axes>"
      ]
     },
     "metadata": {
      "needs_background": "light"
     },
     "output_type": "display_data"
    }
   ],
   "source": [
    "df['Close'].rolling(30).mean().plot()"
   ]
  },
  {
   "cell_type": "markdown",
   "id": "46ddec62",
   "metadata": {},
   "source": [
    "##### Extração de Features"
   ]
  },
  {
   "cell_type": "markdown",
   "id": "ef2434b0",
   "metadata": {},
   "source": [
    "- Nesta etapa iremos decompor uma variável para detalhar a análise.\n",
    "Iremos pegar a coluna 'Date' que se encontra no formato aaaa-mm-dd e decompo-la para termos\n",
    "variáveis destitas."
   ]
  },
  {
   "cell_type": "code",
   "execution_count": 18,
   "id": "4d9fad43",
   "metadata": {},
   "outputs": [],
   "source": [
    "# Resetar o índice\n",
    "\n",
    "df.reset_index(inplace=True)"
   ]
  },
  {
   "cell_type": "code",
   "execution_count": 19,
   "id": "1ac5d521",
   "metadata": {},
   "outputs": [],
   "source": [
    "# Criar features para cada período\n",
    "\n",
    "df['Year'] = df['Date'].dt.year\n",
    "df['Month'] = df['Date'].dt.month\n",
    "df['Day'] = df['Date'].dt.day"
   ]
  },
  {
   "cell_type": "code",
   "execution_count": 20,
   "id": "01d78b08",
   "metadata": {},
   "outputs": [
    {
     "data": {
      "text/html": [
       "<div>\n",
       "<style scoped>\n",
       "    .dataframe tbody tr th:only-of-type {\n",
       "        vertical-align: middle;\n",
       "    }\n",
       "\n",
       "    .dataframe tbody tr th {\n",
       "        vertical-align: top;\n",
       "    }\n",
       "\n",
       "    .dataframe thead th {\n",
       "        text-align: right;\n",
       "    }\n",
       "</style>\n",
       "<table border=\"1\" class=\"dataframe\">\n",
       "  <thead>\n",
       "    <tr style=\"text-align: right;\">\n",
       "      <th></th>\n",
       "      <th>Date</th>\n",
       "      <th>Open</th>\n",
       "      <th>High</th>\n",
       "      <th>Low</th>\n",
       "      <th>Close</th>\n",
       "      <th>Volume</th>\n",
       "      <th>Dividends</th>\n",
       "      <th>Stock Splits</th>\n",
       "      <th>Year</th>\n",
       "      <th>Month</th>\n",
       "      <th>Day</th>\n",
       "    </tr>\n",
       "  </thead>\n",
       "  <tbody>\n",
       "    <tr>\n",
       "      <th>0</th>\n",
       "      <td>2015-01-02</td>\n",
       "      <td>50005.000</td>\n",
       "      <td>50005.000</td>\n",
       "      <td>48345.000</td>\n",
       "      <td>48512.000</td>\n",
       "      <td>2882100</td>\n",
       "      <td>0</td>\n",
       "      <td>0</td>\n",
       "      <td>2015</td>\n",
       "      <td>1</td>\n",
       "      <td>2</td>\n",
       "    </tr>\n",
       "    <tr>\n",
       "      <th>1</th>\n",
       "      <td>2015-01-05</td>\n",
       "      <td>48512.000</td>\n",
       "      <td>48512.000</td>\n",
       "      <td>47264.000</td>\n",
       "      <td>47517.000</td>\n",
       "      <td>3866100</td>\n",
       "      <td>0</td>\n",
       "      <td>0</td>\n",
       "      <td>2015</td>\n",
       "      <td>1</td>\n",
       "      <td>5</td>\n",
       "    </tr>\n",
       "    <tr>\n",
       "      <th>2</th>\n",
       "      <td>2015-01-06</td>\n",
       "      <td>47517.000</td>\n",
       "      <td>48061.000</td>\n",
       "      <td>47338.000</td>\n",
       "      <td>48001.000</td>\n",
       "      <td>4559300</td>\n",
       "      <td>0</td>\n",
       "      <td>0</td>\n",
       "      <td>2015</td>\n",
       "      <td>1</td>\n",
       "      <td>6</td>\n",
       "    </tr>\n",
       "    <tr>\n",
       "      <th>3</th>\n",
       "      <td>2015-01-07</td>\n",
       "      <td>48006.000</td>\n",
       "      <td>49882.000</td>\n",
       "      <td>48006.000</td>\n",
       "      <td>49463.000</td>\n",
       "      <td>4408800</td>\n",
       "      <td>0</td>\n",
       "      <td>0</td>\n",
       "      <td>2015</td>\n",
       "      <td>1</td>\n",
       "      <td>7</td>\n",
       "    </tr>\n",
       "    <tr>\n",
       "      <th>4</th>\n",
       "      <td>2015-01-08</td>\n",
       "      <td>49463.000</td>\n",
       "      <td>50261.000</td>\n",
       "      <td>49017.000</td>\n",
       "      <td>49943.000</td>\n",
       "      <td>3621900</td>\n",
       "      <td>0</td>\n",
       "      <td>0</td>\n",
       "      <td>2015</td>\n",
       "      <td>1</td>\n",
       "      <td>8</td>\n",
       "    </tr>\n",
       "  </tbody>\n",
       "</table>\n",
       "</div>"
      ],
      "text/plain": [
       "        Date      Open      High       Low     Close   Volume  Dividends  \\\n",
       "0 2015-01-02 50005.000 50005.000 48345.000 48512.000  2882100          0   \n",
       "1 2015-01-05 48512.000 48512.000 47264.000 47517.000  3866100          0   \n",
       "2 2015-01-06 47517.000 48061.000 47338.000 48001.000  4559300          0   \n",
       "3 2015-01-07 48006.000 49882.000 48006.000 49463.000  4408800          0   \n",
       "4 2015-01-08 49463.000 50261.000 49017.000 49943.000  3621900          0   \n",
       "\n",
       "   Stock Splits  Year  Month  Day  \n",
       "0             0  2015      1    2  \n",
       "1             0  2015      1    5  \n",
       "2             0  2015      1    6  \n",
       "3             0  2015      1    7  \n",
       "4             0  2015      1    8  "
      ]
     },
     "execution_count": 20,
     "metadata": {},
     "output_type": "execute_result"
    }
   ],
   "source": [
    "df.head()"
   ]
  },
  {
   "cell_type": "markdown",
   "id": "0ebbd8ea",
   "metadata": {},
   "source": [
    "##### Cálculo de rentabilidade"
   ]
  },
  {
   "cell_type": "markdown",
   "id": "503e8d2b",
   "metadata": {},
   "source": [
    "- Para calcularmos a rentabilidade iremos pegar o preço atual de fechamento e dividi-lo \n",
    "pelo preço anterior, multiplicar por 100 e diminuir 100. Teremos a rentabilidade\n",
    "de um dia para o outro em forma de porcentagem. \n",
    "\n",
    "- Para realizar esse cálculo de forma automatizada, iremos usar o módulo .shift da lib Pandas.\n",
    "Esse método é utilizado para deslocar o índice de DataFrame por um número especificado de períodos\n",
    "com uma freqüência de tempo opcional."
   ]
  },
  {
   "cell_type": "code",
   "execution_count": 21,
   "id": "93962d7e",
   "metadata": {},
   "outputs": [
    {
     "data": {
      "text/plain": [
       "0   48512.000\n",
       "1   47517.000\n",
       "2   48001.000\n",
       "3   49463.000\n",
       "4   49943.000\n",
       "Name: Close, dtype: float64"
      ]
     },
     "execution_count": 21,
     "metadata": {},
     "output_type": "execute_result"
    }
   ],
   "source": [
    "df['Close'].head()"
   ]
  },
  {
   "cell_type": "code",
   "execution_count": 22,
   "id": "7a1c437f",
   "metadata": {},
   "outputs": [
    {
     "data": {
      "text/plain": [
       "0             NaN\n",
       "1       48512.000\n",
       "2       47517.000\n",
       "3       48001.000\n",
       "4       49463.000\n",
       "          ...    \n",
       "1475   116016.000\n",
       "1476   116348.000\n",
       "1477   117857.000\n",
       "1478   119051.000\n",
       "1479   119475.000\n",
       "Name: Close, Length: 1480, dtype: float64"
      ]
     },
     "execution_count": 22,
     "metadata": {},
     "output_type": "execute_result"
    }
   ],
   "source": [
    "df['Close'].shift()"
   ]
  },
  {
   "cell_type": "code",
   "execution_count": 23,
   "id": "ea437f90",
   "metadata": {},
   "outputs": [],
   "source": [
    "df['Rentabilidade'] = df['Close'] / df['Close'].shift() * 100 - 100"
   ]
  },
  {
   "cell_type": "code",
   "execution_count": 24,
   "id": "1c00b3e5",
   "metadata": {},
   "outputs": [
    {
     "data": {
      "text/html": [
       "<div>\n",
       "<style scoped>\n",
       "    .dataframe tbody tr th:only-of-type {\n",
       "        vertical-align: middle;\n",
       "    }\n",
       "\n",
       "    .dataframe tbody tr th {\n",
       "        vertical-align: top;\n",
       "    }\n",
       "\n",
       "    .dataframe thead th {\n",
       "        text-align: right;\n",
       "    }\n",
       "</style>\n",
       "<table border=\"1\" class=\"dataframe\">\n",
       "  <thead>\n",
       "    <tr style=\"text-align: right;\">\n",
       "      <th></th>\n",
       "      <th>Date</th>\n",
       "      <th>Open</th>\n",
       "      <th>High</th>\n",
       "      <th>Low</th>\n",
       "      <th>Close</th>\n",
       "      <th>Volume</th>\n",
       "      <th>Dividends</th>\n",
       "      <th>Stock Splits</th>\n",
       "      <th>Year</th>\n",
       "      <th>Month</th>\n",
       "      <th>Day</th>\n",
       "      <th>Rentabilidade</th>\n",
       "    </tr>\n",
       "  </thead>\n",
       "  <tbody>\n",
       "    <tr>\n",
       "      <th>0</th>\n",
       "      <td>2015-01-02</td>\n",
       "      <td>50005.000</td>\n",
       "      <td>50005.000</td>\n",
       "      <td>48345.000</td>\n",
       "      <td>48512.000</td>\n",
       "      <td>2882100</td>\n",
       "      <td>0</td>\n",
       "      <td>0</td>\n",
       "      <td>2015</td>\n",
       "      <td>1</td>\n",
       "      <td>2</td>\n",
       "      <td>NaN</td>\n",
       "    </tr>\n",
       "    <tr>\n",
       "      <th>1</th>\n",
       "      <td>2015-01-05</td>\n",
       "      <td>48512.000</td>\n",
       "      <td>48512.000</td>\n",
       "      <td>47264.000</td>\n",
       "      <td>47517.000</td>\n",
       "      <td>3866100</td>\n",
       "      <td>0</td>\n",
       "      <td>0</td>\n",
       "      <td>2015</td>\n",
       "      <td>1</td>\n",
       "      <td>5</td>\n",
       "      <td>-2.051</td>\n",
       "    </tr>\n",
       "    <tr>\n",
       "      <th>2</th>\n",
       "      <td>2015-01-06</td>\n",
       "      <td>47517.000</td>\n",
       "      <td>48061.000</td>\n",
       "      <td>47338.000</td>\n",
       "      <td>48001.000</td>\n",
       "      <td>4559300</td>\n",
       "      <td>0</td>\n",
       "      <td>0</td>\n",
       "      <td>2015</td>\n",
       "      <td>1</td>\n",
       "      <td>6</td>\n",
       "      <td>1.019</td>\n",
       "    </tr>\n",
       "    <tr>\n",
       "      <th>3</th>\n",
       "      <td>2015-01-07</td>\n",
       "      <td>48006.000</td>\n",
       "      <td>49882.000</td>\n",
       "      <td>48006.000</td>\n",
       "      <td>49463.000</td>\n",
       "      <td>4408800</td>\n",
       "      <td>0</td>\n",
       "      <td>0</td>\n",
       "      <td>2015</td>\n",
       "      <td>1</td>\n",
       "      <td>7</td>\n",
       "      <td>3.046</td>\n",
       "    </tr>\n",
       "    <tr>\n",
       "      <th>4</th>\n",
       "      <td>2015-01-08</td>\n",
       "      <td>49463.000</td>\n",
       "      <td>50261.000</td>\n",
       "      <td>49017.000</td>\n",
       "      <td>49943.000</td>\n",
       "      <td>3621900</td>\n",
       "      <td>0</td>\n",
       "      <td>0</td>\n",
       "      <td>2015</td>\n",
       "      <td>1</td>\n",
       "      <td>8</td>\n",
       "      <td>0.970</td>\n",
       "    </tr>\n",
       "  </tbody>\n",
       "</table>\n",
       "</div>"
      ],
      "text/plain": [
       "        Date      Open      High       Low     Close   Volume  Dividends  \\\n",
       "0 2015-01-02 50005.000 50005.000 48345.000 48512.000  2882100          0   \n",
       "1 2015-01-05 48512.000 48512.000 47264.000 47517.000  3866100          0   \n",
       "2 2015-01-06 47517.000 48061.000 47338.000 48001.000  4559300          0   \n",
       "3 2015-01-07 48006.000 49882.000 48006.000 49463.000  4408800          0   \n",
       "4 2015-01-08 49463.000 50261.000 49017.000 49943.000  3621900          0   \n",
       "\n",
       "   Stock Splits  Year  Month  Day  Rentabilidade  \n",
       "0             0  2015      1    2            NaN  \n",
       "1             0  2015      1    5         -2.051  \n",
       "2             0  2015      1    6          1.019  \n",
       "3             0  2015      1    7          3.046  \n",
       "4             0  2015      1    8          0.970  "
      ]
     },
     "execution_count": 24,
     "metadata": {},
     "output_type": "execute_result"
    }
   ],
   "source": [
    "df.head()"
   ]
  },
  {
   "cell_type": "markdown",
   "id": "162880fd",
   "metadata": {},
   "source": [
    "- Abaixo iremos criar uma função com a extração de feature\n",
    "e o cálculo de rentabilidade para ser usado novamente de forma mais fácil."
   ]
  },
  {
   "cell_type": "code",
   "execution_count": 25,
   "id": "7906fd85",
   "metadata": {},
   "outputs": [],
   "source": [
    "def features_extration(df_):\n",
    "    df_['Year'] = df_['Date'].dt.year\n",
    "    df_['Month'] = df_['Date'].dt.month\n",
    "    df_['Day'] = df_['Date'].dt.day\n",
    "    df_['Rentabilidade'] = df_['Close'] / df_['Close'].shift() * 100 - 100"
   ]
  },
  {
   "cell_type": "code",
   "execution_count": 26,
   "id": "90163308",
   "metadata": {},
   "outputs": [],
   "source": [
    "df.reset_index(inplace=True)"
   ]
  },
  {
   "cell_type": "code",
   "execution_count": 27,
   "id": "50e74f30",
   "metadata": {},
   "outputs": [],
   "source": [
    "features_extration(df)"
   ]
  },
  {
   "cell_type": "code",
   "execution_count": 28,
   "id": "5b396403",
   "metadata": {},
   "outputs": [
    {
     "data": {
      "text/html": [
       "<div>\n",
       "<style scoped>\n",
       "    .dataframe tbody tr th:only-of-type {\n",
       "        vertical-align: middle;\n",
       "    }\n",
       "\n",
       "    .dataframe tbody tr th {\n",
       "        vertical-align: top;\n",
       "    }\n",
       "\n",
       "    .dataframe thead th {\n",
       "        text-align: right;\n",
       "    }\n",
       "</style>\n",
       "<table border=\"1\" class=\"dataframe\">\n",
       "  <thead>\n",
       "    <tr style=\"text-align: right;\">\n",
       "      <th></th>\n",
       "      <th>index</th>\n",
       "      <th>Date</th>\n",
       "      <th>Open</th>\n",
       "      <th>High</th>\n",
       "      <th>Low</th>\n",
       "      <th>Close</th>\n",
       "      <th>Volume</th>\n",
       "      <th>Dividends</th>\n",
       "      <th>Stock Splits</th>\n",
       "      <th>Year</th>\n",
       "      <th>Month</th>\n",
       "      <th>Day</th>\n",
       "      <th>Rentabilidade</th>\n",
       "    </tr>\n",
       "  </thead>\n",
       "  <tbody>\n",
       "    <tr>\n",
       "      <th>0</th>\n",
       "      <td>0</td>\n",
       "      <td>2015-01-02</td>\n",
       "      <td>50005.000</td>\n",
       "      <td>50005.000</td>\n",
       "      <td>48345.000</td>\n",
       "      <td>48512.000</td>\n",
       "      <td>2882100</td>\n",
       "      <td>0</td>\n",
       "      <td>0</td>\n",
       "      <td>2015</td>\n",
       "      <td>1</td>\n",
       "      <td>2</td>\n",
       "      <td>NaN</td>\n",
       "    </tr>\n",
       "    <tr>\n",
       "      <th>1</th>\n",
       "      <td>1</td>\n",
       "      <td>2015-01-05</td>\n",
       "      <td>48512.000</td>\n",
       "      <td>48512.000</td>\n",
       "      <td>47264.000</td>\n",
       "      <td>47517.000</td>\n",
       "      <td>3866100</td>\n",
       "      <td>0</td>\n",
       "      <td>0</td>\n",
       "      <td>2015</td>\n",
       "      <td>1</td>\n",
       "      <td>5</td>\n",
       "      <td>-2.051</td>\n",
       "    </tr>\n",
       "    <tr>\n",
       "      <th>2</th>\n",
       "      <td>2</td>\n",
       "      <td>2015-01-06</td>\n",
       "      <td>47517.000</td>\n",
       "      <td>48061.000</td>\n",
       "      <td>47338.000</td>\n",
       "      <td>48001.000</td>\n",
       "      <td>4559300</td>\n",
       "      <td>0</td>\n",
       "      <td>0</td>\n",
       "      <td>2015</td>\n",
       "      <td>1</td>\n",
       "      <td>6</td>\n",
       "      <td>1.019</td>\n",
       "    </tr>\n",
       "    <tr>\n",
       "      <th>3</th>\n",
       "      <td>3</td>\n",
       "      <td>2015-01-07</td>\n",
       "      <td>48006.000</td>\n",
       "      <td>49882.000</td>\n",
       "      <td>48006.000</td>\n",
       "      <td>49463.000</td>\n",
       "      <td>4408800</td>\n",
       "      <td>0</td>\n",
       "      <td>0</td>\n",
       "      <td>2015</td>\n",
       "      <td>1</td>\n",
       "      <td>7</td>\n",
       "      <td>3.046</td>\n",
       "    </tr>\n",
       "    <tr>\n",
       "      <th>4</th>\n",
       "      <td>4</td>\n",
       "      <td>2015-01-08</td>\n",
       "      <td>49463.000</td>\n",
       "      <td>50261.000</td>\n",
       "      <td>49017.000</td>\n",
       "      <td>49943.000</td>\n",
       "      <td>3621900</td>\n",
       "      <td>0</td>\n",
       "      <td>0</td>\n",
       "      <td>2015</td>\n",
       "      <td>1</td>\n",
       "      <td>8</td>\n",
       "      <td>0.970</td>\n",
       "    </tr>\n",
       "  </tbody>\n",
       "</table>\n",
       "</div>"
      ],
      "text/plain": [
       "   index       Date      Open      High       Low     Close   Volume  \\\n",
       "0      0 2015-01-02 50005.000 50005.000 48345.000 48512.000  2882100   \n",
       "1      1 2015-01-05 48512.000 48512.000 47264.000 47517.000  3866100   \n",
       "2      2 2015-01-06 47517.000 48061.000 47338.000 48001.000  4559300   \n",
       "3      3 2015-01-07 48006.000 49882.000 48006.000 49463.000  4408800   \n",
       "4      4 2015-01-08 49463.000 50261.000 49017.000 49943.000  3621900   \n",
       "\n",
       "   Dividends  Stock Splits  Year  Month  Day  Rentabilidade  \n",
       "0          0             0  2015      1    2            NaN  \n",
       "1          0             0  2015      1    5         -2.051  \n",
       "2          0             0  2015      1    6          1.019  \n",
       "3          0             0  2015      1    7          3.046  \n",
       "4          0             0  2015      1    8          0.970  "
      ]
     },
     "execution_count": 28,
     "metadata": {},
     "output_type": "execute_result"
    }
   ],
   "source": [
    "df.head()"
   ]
  },
  {
   "cell_type": "markdown",
   "id": "3c66ce50",
   "metadata": {},
   "source": [
    "##### Trabalhando com hipoteses "
   ]
  },
  {
   "cell_type": "markdown",
   "id": "14670c40",
   "metadata": {},
   "source": [
    "- Após filtrar os dados, calcular a média móvel e também a rentabilidade, iremos conseguir\n",
    "visualizar algumas hipoteses de investimento nos ativos."
   ]
  },
  {
   "cell_type": "code",
   "execution_count": 30,
   "id": "b413be36",
   "metadata": {},
   "outputs": [
    {
     "data": {
      "text/plain": [
       "<AxesSubplot:xlabel='Month'>"
      ]
     },
     "execution_count": 30,
     "metadata": {},
     "output_type": "execute_result"
    },
    {
     "data": {
      "image/png": "[encoded data removed]",
      "text/plain": [
       "<Figure size 432x288 with 1 Axes>"
      ]
     },
     "metadata": {
      "needs_background": "light"
     },
     "output_type": "display_data"
    }
   ],
   "source": [
    "# Qual o melhor mês para investir?\n",
    "\n",
    "df.groupby('Month').agg({'Rentabilidade': 'sum'}).plot(kind='bar')"
   ]
  },
  {
   "cell_type": "markdown",
   "id": "643fc087",
   "metadata": {},
   "source": [
    "- No Gráfico acima podemos visualizar que os melhores meses para se investir são os meses:\n",
    "Março, Maio e Agosto, aonde a rentabilidade está mais baixa. Já os meses de Abril, Julho e Outubro, \n",
    "são os piores mêses."
   ]
  },
  {
   "cell_type": "code",
   "execution_count": 33,
   "id": "961df698",
   "metadata": {},
   "outputs": [
    {
     "data": {
      "text/plain": [
       "<AxesSubplot:xlabel='Day'>"
      ]
     },
     "execution_count": 33,
     "metadata": {},
     "output_type": "execute_result"
    },
    {
     "data": {
      "image/png": "[encoded data removed]",
      "text/plain": [
       "<Figure size 432x288 with 1 Axes>"
      ]
     },
     "metadata": {
      "needs_background": "light"
     },
     "output_type": "display_data"
    }
   ],
   "source": [
    "# Qual o melhor dia para investir?\n",
    "df.groupby('Day').agg({'Rentabilidade': 'sum'}).plot(kind='bar')"
   ]
  },
  {
   "cell_type": "markdown",
   "id": "bad1f41e",
   "metadata": {},
   "source": [
    "- Os dias 9, 23 e 31 a rentabilidade estava baixa, fazendo assim os melhores dias para \n",
    "se investir. Já os dias do início do mes, 2, 3, 8.. são os piores para se aplicar na bolsa."
   ]
  },
  {
   "cell_type": "code",
   "execution_count": 35,
   "id": "9a05c332",
   "metadata": {},
   "outputs": [
    {
     "data": {
      "text/plain": [
       "<AxesSubplot:xlabel='Year'>"
      ]
     },
     "execution_count": 35,
     "metadata": {},
     "output_type": "execute_result"
    },
    {
     "data": {
      "image/png": "[encoded data removed]",
      "text/plain": [
       "<Figure size 432x288 with 1 Axes>"
      ]
     },
     "metadata": {
      "needs_background": "light"
     },
     "output_type": "display_data"
    }
   ],
   "source": [
    "# Qual o melhor ano\n",
    "\n",
    "df.groupby('Year').agg({'Rentabilidade': 'sum'}).plot(kind='bar')"
   ]
  },
  {
   "cell_type": "markdown",
   "id": "c1438bab",
   "metadata": {},
   "source": [
    "- Por fim, podemos visualizar qual foi o melhor ano de investimento e claramente percebemos\n",
    "que foi o de 2015."
   ]
  },
  {
   "cell_type": "markdown",
   "id": "93e421f2",
   "metadata": {},
   "source": [
    "##### Correlação de séries temporais"
   ]
  },
  {
   "cell_type": "markdown",
   "id": "41b0673d",
   "metadata": {},
   "source": [
    "Neste etapa iremos analisar a correlação de diferentes ativos e descobrir qual a influência \n",
    "de um ao outro para se ter na sua carteira de investimento.\n",
    "\n",
    "Para esse exemplo, iremos usar os ativos:\n",
    "- VALE3.SA\n",
    "- ITUB4.SA\n",
    "- PETR4.SA\n",
    "- ABEV3.SA\n",
    "- BBDC4.SA\n",
    "- BBAS3.SA\n",
    "- ^BVSP\n",
    "- CASH3.SA\n",
    "- BCFF11.SA\n",
    "- MGLU3.SA\n",
    "- MXRF11.SA\n",
    "- USDBRL=X"
   ]
  },
  {
   "cell_type": "code",
   "execution_count": 41,
   "id": "5c20c8e9",
   "metadata": {},
   "outputs": [],
   "source": [
    "tickets = ['VALE3.SA', 'ITUB4.SA', 'PETR4.SA', 'ABEV3.SA',\n",
    "           'BBDC4.SA', 'BBAS3.SA', '^BVSP', 'CASH3.SA', 'BCFF11.SA',\n",
    "           'MGLU3.SA', 'MXRF11.SA', 'USDBRL=X']"
   ]
  },
  {
   "cell_type": "code",
   "execution_count": 42,
   "id": "18df161b",
   "metadata": {},
   "outputs": [
    {
     "name": "stdout",
     "output_type": "stream",
     "text": [
      "Reading Tickets...VALE3.SA\n",
      "Reading Tickets...ITUB4.SA\n",
      "Reading Tickets...PETR4.SA\n",
      "Reading Tickets...ABEV3.SA\n",
      "Reading Tickets...BBDC4.SA\n",
      "Reading Tickets...BBAS3.SA\n",
      "Reading Tickets...^BVSP\n",
      "Reading Tickets...CASH3.SA\n",
      "Reading Tickets...BCFF11.SA\n",
      "Reading Tickets...MGLU3.SA\n",
      "Reading Tickets...MXRF11.SA\n",
      "Reading Tickets...USDBRL=X\n"
     ]
    }
   ],
   "source": [
    "# Criar um novos DataFrames para as séries temporais\n",
    "\n",
    "dfs = []\n",
    "for t in tickets:\n",
    "    print('Reading Tickets...{}'.format(t))\n",
    "    ticket = yf.Ticker(t)\n",
    "    aux = ticket.history(interval='1d', start='2015-01-01', end='2021-01-01')\n",
    "    aux.reset_index(inplace=True)\n",
    "    aux['Ticket'] = t\n",
    "    dfs.append(aux)"
   ]
  },
  {
   "cell_type": "markdown",
   "id": "ca14085a",
   "metadata": {},
   "source": [
    "Com a criação dos novos DFs, vamos conseguir ter acesso a séries temporais de diferentes ativos.\n",
    "Cada um deles, pode ser acessado através de um índice. \n",
    "- 0 - VALE3.SA\n",
    "- 1 - ITUB4.SA\n",
    "- 3 - PETR4.SA ..."
   ]
  },
  {
   "cell_type": "code",
   "execution_count": 48,
   "id": "894ffac5",
   "metadata": {},
   "outputs": [
    {
     "data": {
      "text/html": [
       "<div>\n",
       "<style scoped>\n",
       "    .dataframe tbody tr th:only-of-type {\n",
       "        vertical-align: middle;\n",
       "    }\n",
       "\n",
       "    .dataframe tbody tr th {\n",
       "        vertical-align: top;\n",
       "    }\n",
       "\n",
       "    .dataframe thead th {\n",
       "        text-align: right;\n",
       "    }\n",
       "</style>\n",
       "<table border=\"1\" class=\"dataframe\">\n",
       "  <thead>\n",
       "    <tr style=\"text-align: right;\">\n",
       "      <th></th>\n",
       "      <th>Date</th>\n",
       "      <th>Open</th>\n",
       "      <th>High</th>\n",
       "      <th>Low</th>\n",
       "      <th>Close</th>\n",
       "      <th>Volume</th>\n",
       "      <th>Dividends</th>\n",
       "      <th>Stock Splits</th>\n",
       "      <th>Ticket</th>\n",
       "    </tr>\n",
       "  </thead>\n",
       "  <tbody>\n",
       "    <tr>\n",
       "      <th>0</th>\n",
       "      <td>2020-11-09</td>\n",
       "      <td>1.613</td>\n",
       "      <td>1.651</td>\n",
       "      <td>1.557</td>\n",
       "      <td>1.580</td>\n",
       "      <td>5030400</td>\n",
       "      <td>0</td>\n",
       "      <td>0</td>\n",
       "      <td>CASH3.SA</td>\n",
       "    </tr>\n",
       "    <tr>\n",
       "      <th>1</th>\n",
       "      <td>2020-11-10</td>\n",
       "      <td>1.597</td>\n",
       "      <td>1.632</td>\n",
       "      <td>1.555</td>\n",
       "      <td>1.632</td>\n",
       "      <td>2643000</td>\n",
       "      <td>0</td>\n",
       "      <td>0</td>\n",
       "      <td>CASH3.SA</td>\n",
       "    </tr>\n",
       "    <tr>\n",
       "      <th>2</th>\n",
       "      <td>2020-11-11</td>\n",
       "      <td>1.640</td>\n",
       "      <td>1.656</td>\n",
       "      <td>1.603</td>\n",
       "      <td>1.640</td>\n",
       "      <td>2454600</td>\n",
       "      <td>0</td>\n",
       "      <td>0</td>\n",
       "      <td>CASH3.SA</td>\n",
       "    </tr>\n",
       "    <tr>\n",
       "      <th>3</th>\n",
       "      <td>2020-11-12</td>\n",
       "      <td>1.665</td>\n",
       "      <td>1.675</td>\n",
       "      <td>1.568</td>\n",
       "      <td>1.590</td>\n",
       "      <td>5122800</td>\n",
       "      <td>0</td>\n",
       "      <td>0</td>\n",
       "      <td>CASH3.SA</td>\n",
       "    </tr>\n",
       "    <tr>\n",
       "      <th>4</th>\n",
       "      <td>2020-11-13</td>\n",
       "      <td>1.583</td>\n",
       "      <td>1.661</td>\n",
       "      <td>1.555</td>\n",
       "      <td>1.623</td>\n",
       "      <td>5092200</td>\n",
       "      <td>0</td>\n",
       "      <td>0</td>\n",
       "      <td>CASH3.SA</td>\n",
       "    </tr>\n",
       "  </tbody>\n",
       "</table>\n",
       "</div>"
      ],
      "text/plain": [
       "        Date  Open  High   Low  Close   Volume  Dividends  Stock Splits  \\\n",
       "0 2020-11-09 1.613 1.651 1.557  1.580  5030400          0             0   \n",
       "1 2020-11-10 1.597 1.632 1.555  1.632  2643000          0             0   \n",
       "2 2020-11-11 1.640 1.656 1.603  1.640  2454600          0             0   \n",
       "3 2020-11-12 1.665 1.675 1.568  1.590  5122800          0             0   \n",
       "4 2020-11-13 1.583 1.661 1.555  1.623  5092200          0             0   \n",
       "\n",
       "     Ticket  \n",
       "0  CASH3.SA  \n",
       "1  CASH3.SA  \n",
       "2  CASH3.SA  \n",
       "3  CASH3.SA  \n",
       "4  CASH3.SA  "
      ]
     },
     "execution_count": 48,
     "metadata": {},
     "output_type": "execute_result"
    }
   ],
   "source": [
    "# Visualizando os dados do ativo CASH3.SA\n",
    "\n",
    "dfs[7].head()"
   ]
  },
  {
   "cell_type": "markdown",
   "id": "3ae3d461",
   "metadata": {},
   "source": [
    "Feito a leitura dos dados dos diferentes ativos, iremos atribuir a função de rentabilidade \n",
    "para podermos começar as análises de correlação entre eles."
   ]
  },
  {
   "cell_type": "code",
   "execution_count": 49,
   "id": "f242ee82",
   "metadata": {},
   "outputs": [],
   "source": [
    "# Extração das features\n",
    "\n",
    "for d in dfs:\n",
    "    features_extration(d)"
   ]
  },
  {
   "cell_type": "code",
   "execution_count": 51,
   "id": "1e761875",
   "metadata": {},
   "outputs": [
    {
     "data": {
      "text/html": [
       "<div>\n",
       "<style scoped>\n",
       "    .dataframe tbody tr th:only-of-type {\n",
       "        vertical-align: middle;\n",
       "    }\n",
       "\n",
       "    .dataframe tbody tr th {\n",
       "        vertical-align: top;\n",
       "    }\n",
       "\n",
       "    .dataframe thead th {\n",
       "        text-align: right;\n",
       "    }\n",
       "</style>\n",
       "<table border=\"1\" class=\"dataframe\">\n",
       "  <thead>\n",
       "    <tr style=\"text-align: right;\">\n",
       "      <th></th>\n",
       "      <th>Date</th>\n",
       "      <th>Open</th>\n",
       "      <th>High</th>\n",
       "      <th>Low</th>\n",
       "      <th>Close</th>\n",
       "      <th>Volume</th>\n",
       "      <th>Dividends</th>\n",
       "      <th>Stock Splits</th>\n",
       "      <th>Ticket</th>\n",
       "      <th>Year</th>\n",
       "      <th>Month</th>\n",
       "      <th>Day</th>\n",
       "      <th>Rentabilidade</th>\n",
       "    </tr>\n",
       "  </thead>\n",
       "  <tbody>\n",
       "    <tr>\n",
       "      <th>0</th>\n",
       "      <td>2020-11-09</td>\n",
       "      <td>1.613</td>\n",
       "      <td>1.651</td>\n",
       "      <td>1.557</td>\n",
       "      <td>1.580</td>\n",
       "      <td>5030400</td>\n",
       "      <td>0</td>\n",
       "      <td>0</td>\n",
       "      <td>CASH3.SA</td>\n",
       "      <td>2020</td>\n",
       "      <td>11</td>\n",
       "      <td>9</td>\n",
       "      <td>NaN</td>\n",
       "    </tr>\n",
       "    <tr>\n",
       "      <th>1</th>\n",
       "      <td>2020-11-10</td>\n",
       "      <td>1.597</td>\n",
       "      <td>1.632</td>\n",
       "      <td>1.555</td>\n",
       "      <td>1.632</td>\n",
       "      <td>2643000</td>\n",
       "      <td>0</td>\n",
       "      <td>0</td>\n",
       "      <td>CASH3.SA</td>\n",
       "      <td>2020</td>\n",
       "      <td>11</td>\n",
       "      <td>10</td>\n",
       "      <td>3.267</td>\n",
       "    </tr>\n",
       "    <tr>\n",
       "      <th>2</th>\n",
       "      <td>2020-11-11</td>\n",
       "      <td>1.640</td>\n",
       "      <td>1.656</td>\n",
       "      <td>1.603</td>\n",
       "      <td>1.640</td>\n",
       "      <td>2454600</td>\n",
       "      <td>0</td>\n",
       "      <td>0</td>\n",
       "      <td>CASH3.SA</td>\n",
       "      <td>2020</td>\n",
       "      <td>11</td>\n",
       "      <td>11</td>\n",
       "      <td>0.510</td>\n",
       "    </tr>\n",
       "    <tr>\n",
       "      <th>3</th>\n",
       "      <td>2020-11-12</td>\n",
       "      <td>1.665</td>\n",
       "      <td>1.675</td>\n",
       "      <td>1.568</td>\n",
       "      <td>1.590</td>\n",
       "      <td>5122800</td>\n",
       "      <td>0</td>\n",
       "      <td>0</td>\n",
       "      <td>CASH3.SA</td>\n",
       "      <td>2020</td>\n",
       "      <td>11</td>\n",
       "      <td>12</td>\n",
       "      <td>-3.046</td>\n",
       "    </tr>\n",
       "    <tr>\n",
       "      <th>4</th>\n",
       "      <td>2020-11-13</td>\n",
       "      <td>1.583</td>\n",
       "      <td>1.661</td>\n",
       "      <td>1.555</td>\n",
       "      <td>1.623</td>\n",
       "      <td>5092200</td>\n",
       "      <td>0</td>\n",
       "      <td>0</td>\n",
       "      <td>CASH3.SA</td>\n",
       "      <td>2020</td>\n",
       "      <td>11</td>\n",
       "      <td>13</td>\n",
       "      <td>2.094</td>\n",
       "    </tr>\n",
       "  </tbody>\n",
       "</table>\n",
       "</div>"
      ],
      "text/plain": [
       "        Date  Open  High   Low  Close   Volume  Dividends  Stock Splits  \\\n",
       "0 2020-11-09 1.613 1.651 1.557  1.580  5030400          0             0   \n",
       "1 2020-11-10 1.597 1.632 1.555  1.632  2643000          0             0   \n",
       "2 2020-11-11 1.640 1.656 1.603  1.640  2454600          0             0   \n",
       "3 2020-11-12 1.665 1.675 1.568  1.590  5122800          0             0   \n",
       "4 2020-11-13 1.583 1.661 1.555  1.623  5092200          0             0   \n",
       "\n",
       "     Ticket  Year  Month  Day  Rentabilidade  \n",
       "0  CASH3.SA  2020     11    9            NaN  \n",
       "1  CASH3.SA  2020     11   10          3.267  \n",
       "2  CASH3.SA  2020     11   11          0.510  \n",
       "3  CASH3.SA  2020     11   12         -3.046  \n",
       "4  CASH3.SA  2020     11   13          2.094  "
      ]
     },
     "execution_count": 51,
     "metadata": {},
     "output_type": "execute_result"
    }
   ],
   "source": [
    "dfs[7].head()"
   ]
  },
  {
   "cell_type": "markdown",
   "id": "559804d5",
   "metadata": {},
   "source": [
    "- Após a atribuição das features em todas os ativos, iremos calcular a correlação entre eles. \n",
    "    Para isso será feito um novo DataFrame, que irei chamar de \"correlacao\". "
   ]
  },
  {
   "cell_type": "code",
   "execution_count": 52,
   "id": "d62c9bfe",
   "metadata": {},
   "outputs": [],
   "source": [
    "correlacao = pd.DataFrame()\n",
    "for d in dfs:\n",
    "    correlacao[d['Ticket'].iloc[0]] = d['Rentabilidade']"
   ]
  },
  {
   "cell_type": "code",
   "execution_count": 53,
   "id": "d43a765a",
   "metadata": {},
   "outputs": [
    {
     "data": {
      "text/html": [
       "<div>\n",
       "<style scoped>\n",
       "    .dataframe tbody tr th:only-of-type {\n",
       "        vertical-align: middle;\n",
       "    }\n",
       "\n",
       "    .dataframe tbody tr th {\n",
       "        vertical-align: top;\n",
       "    }\n",
       "\n",
       "    .dataframe thead th {\n",
       "        text-align: right;\n",
       "    }\n",
       "</style>\n",
       "<table border=\"1\" class=\"dataframe\">\n",
       "  <thead>\n",
       "    <tr style=\"text-align: right;\">\n",
       "      <th></th>\n",
       "      <th>VALE3.SA</th>\n",
       "      <th>ITUB4.SA</th>\n",
       "      <th>PETR4.SA</th>\n",
       "      <th>ABEV3.SA</th>\n",
       "      <th>BBDC4.SA</th>\n",
       "      <th>BBAS3.SA</th>\n",
       "      <th>^BVSP</th>\n",
       "      <th>CASH3.SA</th>\n",
       "      <th>BCFF11.SA</th>\n",
       "      <th>MGLU3.SA</th>\n",
       "      <th>MXRF11.SA</th>\n",
       "      <th>USDBRL=X</th>\n",
       "    </tr>\n",
       "  </thead>\n",
       "  <tbody>\n",
       "    <tr>\n",
       "      <th>0</th>\n",
       "      <td>NaN</td>\n",
       "      <td>NaN</td>\n",
       "      <td>NaN</td>\n",
       "      <td>NaN</td>\n",
       "      <td>NaN</td>\n",
       "      <td>NaN</td>\n",
       "      <td>NaN</td>\n",
       "      <td>NaN</td>\n",
       "      <td>NaN</td>\n",
       "      <td>NaN</td>\n",
       "      <td>NaN</td>\n",
       "      <td>NaN</td>\n",
       "    </tr>\n",
       "    <tr>\n",
       "      <th>1</th>\n",
       "      <td>-1.504</td>\n",
       "      <td>0.502</td>\n",
       "      <td>-8.547</td>\n",
       "      <td>-1.810</td>\n",
       "      <td>0.201</td>\n",
       "      <td>-2.075</td>\n",
       "      <td>-2.051</td>\n",
       "      <td>3.267</td>\n",
       "      <td>0.043</td>\n",
       "      <td>1.879</td>\n",
       "      <td>-1.315</td>\n",
       "      <td>-0.038</td>\n",
       "    </tr>\n",
       "    <tr>\n",
       "      <th>2</th>\n",
       "      <td>4.008</td>\n",
       "      <td>1.618</td>\n",
       "      <td>-3.271</td>\n",
       "      <td>3.814</td>\n",
       "      <td>3.290</td>\n",
       "      <td>1.398</td>\n",
       "      <td>1.019</td>\n",
       "      <td>0.510</td>\n",
       "      <td>0.856</td>\n",
       "      <td>-1.318</td>\n",
       "      <td>-0.381</td>\n",
       "      <td>1.432</td>\n",
       "    </tr>\n",
       "    <tr>\n",
       "      <th>3</th>\n",
       "      <td>3.670</td>\n",
       "      <td>3.618</td>\n",
       "      <td>4.710</td>\n",
       "      <td>1.408</td>\n",
       "      <td>3.974</td>\n",
       "      <td>4.402</td>\n",
       "      <td>3.046</td>\n",
       "      <td>-3.046</td>\n",
       "      <td>-0.141</td>\n",
       "      <td>3.338</td>\n",
       "      <td>0.013</td>\n",
       "      <td>0.442</td>\n",
       "    </tr>\n",
       "    <tr>\n",
       "      <th>4</th>\n",
       "      <td>1.062</td>\n",
       "      <td>1.564</td>\n",
       "      <td>6.459</td>\n",
       "      <td>6.026</td>\n",
       "      <td>0.515</td>\n",
       "      <td>0.341</td>\n",
       "      <td>0.970</td>\n",
       "      <td>2.094</td>\n",
       "      <td>1.700</td>\n",
       "      <td>-0.775</td>\n",
       "      <td>0.025</td>\n",
       "      <td>-0.240</td>\n",
       "    </tr>\n",
       "  </tbody>\n",
       "</table>\n",
       "</div>"
      ],
      "text/plain": [
       "   VALE3.SA  ITUB4.SA  PETR4.SA  ABEV3.SA  BBDC4.SA  BBAS3.SA  ^BVSP  \\\n",
       "0       NaN       NaN       NaN       NaN       NaN       NaN    NaN   \n",
       "1    -1.504     0.502    -8.547    -1.810     0.201    -2.075 -2.051   \n",
       "2     4.008     1.618    -3.271     3.814     3.290     1.398  1.019   \n",
       "3     3.670     3.618     4.710     1.408     3.974     4.402  3.046   \n",
       "4     1.062     1.564     6.459     6.026     0.515     0.341  0.970   \n",
       "\n",
       "   CASH3.SA  BCFF11.SA  MGLU3.SA  MXRF11.SA  USDBRL=X  \n",
       "0       NaN        NaN       NaN        NaN       NaN  \n",
       "1     3.267      0.043     1.879     -1.315    -0.038  \n",
       "2     0.510      0.856    -1.318     -0.381     1.432  \n",
       "3    -3.046     -0.141     3.338      0.013     0.442  \n",
       "4     2.094      1.700    -0.775      0.025    -0.240  "
      ]
     },
     "execution_count": 53,
     "metadata": {},
     "output_type": "execute_result"
    }
   ],
   "source": [
    "correlacao.head()"
   ]
  },
  {
   "cell_type": "markdown",
   "id": "822f098f",
   "metadata": {},
   "source": [
    "- Com o novo DataFrame iremos calcular a correlação entre os ativos usando a função .corr - \n",
    "    Essa função como padrão usa o método de 'pearson' que irá nos retornar a correlação entre 1 e -1.\n",
    "    Aonde o coeficiente mais próximo de 1 indica uma alta correlação entre os ativos, levando a entender que quando um ativo sobe o outro também sobe.Por outro lado se o coeficiente for mais próximo de -1, os ativos são muito relacionados mas seguem direções opostas. Quando um sobe o outro desce. "
   ]
  },
  {
   "cell_type": "code",
   "execution_count": 54,
   "id": "ff81d690",
   "metadata": {},
   "outputs": [
    {
     "data": {
      "text/html": [
       "<div>\n",
       "<style scoped>\n",
       "    .dataframe tbody tr th:only-of-type {\n",
       "        vertical-align: middle;\n",
       "    }\n",
       "\n",
       "    .dataframe tbody tr th {\n",
       "        vertical-align: top;\n",
       "    }\n",
       "\n",
       "    .dataframe thead th {\n",
       "        text-align: right;\n",
       "    }\n",
       "</style>\n",
       "<table border=\"1\" class=\"dataframe\">\n",
       "  <thead>\n",
       "    <tr style=\"text-align: right;\">\n",
       "      <th></th>\n",
       "      <th>VALE3.SA</th>\n",
       "      <th>ITUB4.SA</th>\n",
       "      <th>PETR4.SA</th>\n",
       "      <th>ABEV3.SA</th>\n",
       "      <th>BBDC4.SA</th>\n",
       "      <th>BBAS3.SA</th>\n",
       "      <th>^BVSP</th>\n",
       "      <th>CASH3.SA</th>\n",
       "      <th>BCFF11.SA</th>\n",
       "      <th>MGLU3.SA</th>\n",
       "      <th>MXRF11.SA</th>\n",
       "      <th>USDBRL=X</th>\n",
       "    </tr>\n",
       "  </thead>\n",
       "  <tbody>\n",
       "    <tr>\n",
       "      <th>VALE3.SA</th>\n",
       "      <td>1.000</td>\n",
       "      <td>0.379</td>\n",
       "      <td>0.502</td>\n",
       "      <td>0.277</td>\n",
       "      <td>0.161</td>\n",
       "      <td>0.191</td>\n",
       "      <td>0.234</td>\n",
       "      <td>-0.029</td>\n",
       "      <td>-0.017</td>\n",
       "      <td>0.266</td>\n",
       "      <td>0.152</td>\n",
       "      <td>-0.026</td>\n",
       "    </tr>\n",
       "    <tr>\n",
       "      <th>ITUB4.SA</th>\n",
       "      <td>0.379</td>\n",
       "      <td>1.000</td>\n",
       "      <td>0.612</td>\n",
       "      <td>0.493</td>\n",
       "      <td>0.448</td>\n",
       "      <td>0.479</td>\n",
       "      <td>0.295</td>\n",
       "      <td>0.154</td>\n",
       "      <td>0.010</td>\n",
       "      <td>0.326</td>\n",
       "      <td>0.224</td>\n",
       "      <td>0.051</td>\n",
       "    </tr>\n",
       "    <tr>\n",
       "      <th>PETR4.SA</th>\n",
       "      <td>0.502</td>\n",
       "      <td>0.612</td>\n",
       "      <td>1.000</td>\n",
       "      <td>0.391</td>\n",
       "      <td>0.322</td>\n",
       "      <td>0.413</td>\n",
       "      <td>0.273</td>\n",
       "      <td>-0.116</td>\n",
       "      <td>0.075</td>\n",
       "      <td>0.319</td>\n",
       "      <td>0.199</td>\n",
       "      <td>0.031</td>\n",
       "    </tr>\n",
       "    <tr>\n",
       "      <th>ABEV3.SA</th>\n",
       "      <td>0.277</td>\n",
       "      <td>0.493</td>\n",
       "      <td>0.391</td>\n",
       "      <td>1.000</td>\n",
       "      <td>0.150</td>\n",
       "      <td>0.150</td>\n",
       "      <td>0.127</td>\n",
       "      <td>-0.046</td>\n",
       "      <td>0.045</td>\n",
       "      <td>0.253</td>\n",
       "      <td>0.187</td>\n",
       "      <td>0.026</td>\n",
       "    </tr>\n",
       "    <tr>\n",
       "      <th>BBDC4.SA</th>\n",
       "      <td>0.161</td>\n",
       "      <td>0.448</td>\n",
       "      <td>0.322</td>\n",
       "      <td>0.150</td>\n",
       "      <td>1.000</td>\n",
       "      <td>0.751</td>\n",
       "      <td>0.362</td>\n",
       "      <td>0.105</td>\n",
       "      <td>0.020</td>\n",
       "      <td>0.119</td>\n",
       "      <td>0.106</td>\n",
       "      <td>0.057</td>\n",
       "    </tr>\n",
       "    <tr>\n",
       "      <th>BBAS3.SA</th>\n",
       "      <td>0.191</td>\n",
       "      <td>0.479</td>\n",
       "      <td>0.413</td>\n",
       "      <td>0.150</td>\n",
       "      <td>0.751</td>\n",
       "      <td>1.000</td>\n",
       "      <td>0.375</td>\n",
       "      <td>0.202</td>\n",
       "      <td>-0.010</td>\n",
       "      <td>0.197</td>\n",
       "      <td>0.116</td>\n",
       "      <td>0.010</td>\n",
       "    </tr>\n",
       "    <tr>\n",
       "      <th>^BVSP</th>\n",
       "      <td>0.234</td>\n",
       "      <td>0.295</td>\n",
       "      <td>0.273</td>\n",
       "      <td>0.127</td>\n",
       "      <td>0.362</td>\n",
       "      <td>0.375</td>\n",
       "      <td>1.000</td>\n",
       "      <td>-0.086</td>\n",
       "      <td>0.004</td>\n",
       "      <td>0.119</td>\n",
       "      <td>0.014</td>\n",
       "      <td>-0.019</td>\n",
       "    </tr>\n",
       "    <tr>\n",
       "      <th>CASH3.SA</th>\n",
       "      <td>-0.029</td>\n",
       "      <td>0.154</td>\n",
       "      <td>-0.116</td>\n",
       "      <td>-0.046</td>\n",
       "      <td>0.105</td>\n",
       "      <td>0.202</td>\n",
       "      <td>-0.086</td>\n",
       "      <td>1.000</td>\n",
       "      <td>-0.025</td>\n",
       "      <td>-0.288</td>\n",
       "      <td>-0.029</td>\n",
       "      <td>0.257</td>\n",
       "    </tr>\n",
       "    <tr>\n",
       "      <th>BCFF11.SA</th>\n",
       "      <td>-0.017</td>\n",
       "      <td>0.010</td>\n",
       "      <td>0.075</td>\n",
       "      <td>0.045</td>\n",
       "      <td>0.020</td>\n",
       "      <td>-0.010</td>\n",
       "      <td>0.004</td>\n",
       "      <td>-0.025</td>\n",
       "      <td>1.000</td>\n",
       "      <td>-0.057</td>\n",
       "      <td>0.017</td>\n",
       "      <td>0.052</td>\n",
       "    </tr>\n",
       "    <tr>\n",
       "      <th>MGLU3.SA</th>\n",
       "      <td>0.266</td>\n",
       "      <td>0.326</td>\n",
       "      <td>0.319</td>\n",
       "      <td>0.253</td>\n",
       "      <td>0.119</td>\n",
       "      <td>0.197</td>\n",
       "      <td>0.119</td>\n",
       "      <td>-0.288</td>\n",
       "      <td>-0.057</td>\n",
       "      <td>1.000</td>\n",
       "      <td>0.174</td>\n",
       "      <td>0.011</td>\n",
       "    </tr>\n",
       "    <tr>\n",
       "      <th>MXRF11.SA</th>\n",
       "      <td>0.152</td>\n",
       "      <td>0.224</td>\n",
       "      <td>0.199</td>\n",
       "      <td>0.187</td>\n",
       "      <td>0.106</td>\n",
       "      <td>0.116</td>\n",
       "      <td>0.014</td>\n",
       "      <td>-0.029</td>\n",
       "      <td>0.017</td>\n",
       "      <td>0.174</td>\n",
       "      <td>1.000</td>\n",
       "      <td>-0.003</td>\n",
       "    </tr>\n",
       "    <tr>\n",
       "      <th>USDBRL=X</th>\n",
       "      <td>-0.026</td>\n",
       "      <td>0.051</td>\n",
       "      <td>0.031</td>\n",
       "      <td>0.026</td>\n",
       "      <td>0.057</td>\n",
       "      <td>0.010</td>\n",
       "      <td>-0.019</td>\n",
       "      <td>0.257</td>\n",
       "      <td>0.052</td>\n",
       "      <td>0.011</td>\n",
       "      <td>-0.003</td>\n",
       "      <td>1.000</td>\n",
       "    </tr>\n",
       "  </tbody>\n",
       "</table>\n",
       "</div>"
      ],
      "text/plain": [
       "           VALE3.SA  ITUB4.SA  PETR4.SA  ABEV3.SA  BBDC4.SA  BBAS3.SA  ^BVSP  \\\n",
       "VALE3.SA      1.000     0.379     0.502     0.277     0.161     0.191  0.234   \n",
       "ITUB4.SA      0.379     1.000     0.612     0.493     0.448     0.479  0.295   \n",
       "PETR4.SA      0.502     0.612     1.000     0.391     0.322     0.413  0.273   \n",
       "ABEV3.SA      0.277     0.493     0.391     1.000     0.150     0.150  0.127   \n",
       "BBDC4.SA      0.161     0.448     0.322     0.150     1.000     0.751  0.362   \n",
       "BBAS3.SA      0.191     0.479     0.413     0.150     0.751     1.000  0.375   \n",
       "^BVSP         0.234     0.295     0.273     0.127     0.362     0.375  1.000   \n",
       "CASH3.SA     -0.029     0.154    -0.116    -0.046     0.105     0.202 -0.086   \n",
       "BCFF11.SA    -0.017     0.010     0.075     0.045     0.020    -0.010  0.004   \n",
       "MGLU3.SA      0.266     0.326     0.319     0.253     0.119     0.197  0.119   \n",
       "MXRF11.SA     0.152     0.224     0.199     0.187     0.106     0.116  0.014   \n",
       "USDBRL=X     -0.026     0.051     0.031     0.026     0.057     0.010 -0.019   \n",
       "\n",
       "           CASH3.SA  BCFF11.SA  MGLU3.SA  MXRF11.SA  USDBRL=X  \n",
       "VALE3.SA     -0.029     -0.017     0.266      0.152    -0.026  \n",
       "ITUB4.SA      0.154      0.010     0.326      0.224     0.051  \n",
       "PETR4.SA     -0.116      0.075     0.319      0.199     0.031  \n",
       "ABEV3.SA     -0.046      0.045     0.253      0.187     0.026  \n",
       "BBDC4.SA      0.105      0.020     0.119      0.106     0.057  \n",
       "BBAS3.SA      0.202     -0.010     0.197      0.116     0.010  \n",
       "^BVSP        -0.086      0.004     0.119      0.014    -0.019  \n",
       "CASH3.SA      1.000     -0.025    -0.288     -0.029     0.257  \n",
       "BCFF11.SA    -0.025      1.000    -0.057      0.017     0.052  \n",
       "MGLU3.SA     -0.288     -0.057     1.000      0.174     0.011  \n",
       "MXRF11.SA    -0.029      0.017     0.174      1.000    -0.003  \n",
       "USDBRL=X      0.257      0.052     0.011     -0.003     1.000  "
      ]
     },
     "execution_count": 54,
     "metadata": {},
     "output_type": "execute_result"
    }
   ],
   "source": [
    "correlacao.corr()"
   ]
  },
  {
   "cell_type": "code",
   "execution_count": 60,
   "id": "9e0d7f1e",
   "metadata": {},
   "outputs": [
    {
     "data": {
      "image/png": "[encoded data removed]",
      "text/plain": [
       "<Figure size 1440x360 with 2 Axes>"
      ]
     },
     "metadata": {
      "needs_background": "light"
     },
     "output_type": "display_data"
    }
   ],
   "source": [
    "# Visualizando a correlação entre os ativos usando o gráfico 'heatmap' plotado pela lib Seaborn\n",
    "\n",
    "ax, fig = plt.subplots(figsize=(20, 5))\n",
    "ax = sns.heatmap(correlacao.corr(), annot=True)"
   ]
  },
  {
   "cell_type": "markdown",
   "id": "1b236b46",
   "metadata": {},
   "source": [
    "- No gráfico podemos observar que 'USDBLR=X' não possui relação com os outros ativos, excessão da 'CASH3.SA', mas mesmo assim\n",
    "    é uma relação muito pequena. Os ativos 'BBDC4.SA' e 'BBAS3.SA' são os mais correlacionados, então não seria ideial investir\n",
    "    ao mesmo tempo nos ativos, pois quando um sobe o outro também e quando um desce o mesmo acontece com o outro. "
   ]
  },
  {
   "cell_type": "markdown",
   "id": "d65df562",
   "metadata": {},
   "source": [
    "##### Conclusão "
   ]
  },
  {
   "cell_type": "markdown",
   "id": "bfde646b",
   "metadata": {},
   "source": [
    "- Desta forma concluímos o projeto de estudo do mercado financeiro. \n",
    "Utilizamos as bibliotecas Pandas, Matplotlib, Seasonal Decompose, YFinance e Seaborn. \n",
    "Coletamos os dados de série temporal ao longo do intervalo de tempo 2015 - 2021.\n",
    "Calculamos a média móvel do fechamento dos ativos. \n",
    "Extraimos as features para visualizar mais detalhadamente as informações.\n",
    "Calculamos a rentabilidade dos ativos.\n",
    "Criamos hipóteses dos melhores e piores momentos para investimento.\n",
    "E por fim, coletamos informações de diferentes ativos e fizemos a correlação entre eles."
   ]
  },
  {
   "cell_type": "code",
   "execution_count": null,
   "id": "4299c506",
   "metadata": {},
   "outputs": [],
   "source": []
  }
 ],
 "metadata": {
  "kernelspec": {
   "display_name": "Python 3",
   "language": "python",
   "name": "python3"
  },
  "language_info": {
   "codemirror_mode": {
    "name": "ipython",
    "version": 3
   },
   "file_extension": ".py",
   "mimetype": "text/x-python",
   "name": "python",
   "nbconvert_exporter": "python",
   "pygments_lexer": "ipython3",
   "version": "3.8.8"
  },
  "toc": {
   "base_numbering": 1,
   "nav_menu": {},
   "number_sections": true,
   "sideBar": true,
   "skip_h1_title": false,
   "title_cell": "Table of Contents",
   "title_sidebar": "Contents",
   "toc_cell": false,
   "toc_position": {},
   "toc_section_display": true,
   "toc_window_display": false
  },
  "varInspector": {
   "cols": {
    "lenName": 16,
    "lenType": 16,
    "lenVar": 40
   },
   "kernels_config": {
    "python": {
     "delete_cmd_postfix": "",
     "delete_cmd_prefix": "del ",
     "library": "var_list.py",
     "varRefreshCmd": "print(var_dic_list())"
    },
    "r": {
     "delete_cmd_postfix": ") ",
     "delete_cmd_prefix": "rm(",
     "library": "var_list.r",
     "varRefreshCmd": "cat(var_dic_list()) "
    }
   },
   "types_to_exclude": [
    "module",
    "function",
    "builtin_function_or_method",
    "instance",
    "_Feature"
   ],
   "window_display": false
  }
 },
 "nbformat": 4,
 "nbformat_minor": 5
}
